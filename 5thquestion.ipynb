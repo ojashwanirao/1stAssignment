{
 "cells": [
  {
   "cell_type": "code",
   "execution_count": 1,
   "id": "5855abe9-6bcc-428f-b181-779291f824cf",
   "metadata": {},
   "outputs": [],
   "source": [
    "#5.  Explain the concept of type casting in Python with examples \n",
    "# Original data\n",
    "string_number = \"42\"  # This is a string\n",
    "list_of_tuples = [('name', 'Alice'), ('age', 30)]  # List of tuples to convert to a dictionary"
   ]
  },
  {
   "cell_type": "code",
   "execution_count": 2,
   "id": "4b6da902-ccd7-4572-b51e-b1b6420956de",
   "metadata": {},
   "outputs": [
    {
     "name": "stdout",
     "output_type": "stream",
     "text": [
      "42\n",
      "<class 'int'>\n"
     ]
    }
   ],
   "source": [
    "# Type casting examples\n",
    "\n",
    "# Converting string to integer\n",
    "int_number = int(string_number)\n",
    "print(int_number) \n",
    "print(type(int_number)) \n"
   ]
  },
  {
   "cell_type": "code",
   "execution_count": 3,
   "id": "0b4b487d-e38e-4e26-b2a9-e7e692346bc3",
   "metadata": {},
   "outputs": [
    {
     "name": "stdout",
     "output_type": "stream",
     "text": [
      "42.0\n",
      "<class 'float'>\n"
     ]
    }
   ],
   "source": [
    "# Converting string to float\n",
    "float_number = float(string_number)\n",
    "print(float_number) \n",
    "print(type(float_number))  "
   ]
  },
  {
   "cell_type": "code",
   "execution_count": 4,
   "id": "fa9d4c51-4974-49ec-804c-08546a766ae9",
   "metadata": {},
   "outputs": [
    {
     "name": "stdout",
     "output_type": "stream",
     "text": [
      "42\n",
      "<class 'str'>\n"
     ]
    }
   ],
   "source": [
    "# Converting integer to string\n",
    "string_from_int = str(int_number)\n",
    "print(string_from_int) \n",
    "print(type(string_from_int)) "
   ]
  },
  {
   "cell_type": "code",
   "execution_count": 5,
   "id": "dcb7df05-43d5-471d-93de-ef7df96fd41a",
   "metadata": {},
   "outputs": [
    {
     "name": "stdout",
     "output_type": "stream",
     "text": [
      "['4', '2']\n",
      "<class 'list'>\n"
     ]
    }
   ],
   "source": [
    "# Converting string to list\n",
    "list_from_string = list(string_number)\n",
    "print(list_from_string)  \n",
    "print(type(list_from_string)) "
   ]
  },
  {
   "cell_type": "code",
   "execution_count": 6,
   "id": "09b04ed6-ce13-43f5-aea1-c04f9a9cb250",
   "metadata": {},
   "outputs": [
    {
     "name": "stdout",
     "output_type": "stream",
     "text": [
      "('4', '2')\n",
      "<class 'tuple'>\n"
     ]
    }
   ],
   "source": [
    "# Converting list to tuple\n",
    "tuple_from_list = tuple(list_from_string)\n",
    "print(tuple_from_list)  \n",
    "print(type(tuple_from_list)) "
   ]
  },
  {
   "cell_type": "code",
   "execution_count": 7,
   "id": "71f1ae88-7294-4fd6-b813-5a68234b180d",
   "metadata": {},
   "outputs": [
    {
     "name": "stdout",
     "output_type": "stream",
     "text": [
      "{'4', '2'}\n",
      "<class 'set'>\n"
     ]
    }
   ],
   "source": [
    "# Converting list to set\n",
    "set_from_list = set(list_from_string)\n",
    "print(set_from_list) \n",
    "print(type(set_from_list)) "
   ]
  },
  {
   "cell_type": "code",
   "execution_count": 8,
   "id": "9ef8a4e7-1c0c-4af9-9d42-6b17741dfbb1",
   "metadata": {},
   "outputs": [
    {
     "name": "stdout",
     "output_type": "stream",
     "text": [
      "True\n",
      "<class 'bool'>\n"
     ]
    }
   ],
   "source": [
    "# Converting float to boolean\n",
    "boolean_from_float = bool(float_number)\n",
    "print(boolean_from_float)  \n",
    "print(type(boolean_from_float))  "
   ]
  },
  {
   "cell_type": "code",
   "execution_count": 9,
   "id": "99e39b69-956f-425d-a3f1-094498710cdf",
   "metadata": {},
   "outputs": [
    {
     "name": "stdout",
     "output_type": "stream",
     "text": [
      "{'name': 'Alice', 'age': 30}\n",
      "<class 'dict'>\n"
     ]
    }
   ],
   "source": [
    "# Converting list of tuples to dictionary\n",
    "dict_from_list = dict(list_of_tuples)\n",
    "print(dict_from_list)  \n",
    "print(type(dict_from_list)) \n"
   ]
  },
  {
   "cell_type": "code",
   "execution_count": 10,
   "id": "713c1519-1b3a-40bd-973a-99980e251266",
   "metadata": {},
   "outputs": [
    {
     "name": "stdout",
     "output_type": "stream",
     "text": [
      "['name', 'age']\n",
      "['Alice', 30]\n",
      "<class 'list'>\n",
      "<class 'list'>\n"
     ]
    }
   ],
   "source": [
    "# Converting dictionary keys and values to lists\n",
    "keys_list = list(dict_from_list.keys())\n",
    "values_list = list(dict_from_list.values())\n",
    "print(keys_list)  \n",
    "print(values_list) \n",
    "print(type(keys_list))  \n",
    "print(type(values_list))  "
   ]
  },
  {
   "cell_type": "code",
   "execution_count": null,
   "id": "dc3adcf0-9469-465a-8c31-a89f3f16da1f",
   "metadata": {},
   "outputs": [],
   "source": []
  }
 ],
 "metadata": {
  "kernelspec": {
   "display_name": "Python 3 (ipykernel)",
   "language": "python",
   "name": "python3"
  },
  "language_info": {
   "codemirror_mode": {
    "name": "ipython",
    "version": 3
   },
   "file_extension": ".py",
   "mimetype": "text/x-python",
   "name": "python",
   "nbconvert_exporter": "python",
   "pygments_lexer": "ipython3",
   "version": "3.10.8"
  }
 },
 "nbformat": 4,
 "nbformat_minor": 5
}
