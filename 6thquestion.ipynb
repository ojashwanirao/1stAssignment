{
 "cells": [
  {
   "cell_type": "code",
   "execution_count": 3,
   "id": "de6d15d8-c6e8-4370-af2e-316d6a259d33",
   "metadata": {},
   "outputs": [
    {
     "name": "stdout",
     "output_type": "stream",
     "text": [
      "It's a warm day.\n",
      "You are an adult.\n",
      "You have a good score.\n"
     ]
    }
   ],
   "source": [
    "#6. How do conditional statements work in Python? Illustrate with examples \n",
    "# Example of Conditional Statements in Python\n",
    "\n",
    "# Define variables\n",
    "temperature = 25\n",
    "age = 20\n",
    "score = 75\n",
    "\n",
    "# If statement\n",
    "if temperature > 30:\n",
    "    print(\"It's a hot day.\")\n",
    "    \n",
    "# Elif statement\n",
    "elif temperature > 20:\n",
    "    print(\"It's a warm day.\")\n",
    "\n",
    "# Else statement\n",
    "else:\n",
    "    print(\"It's a cool day.\")\n",
    "\n",
    "# Nested If-Else statement\n",
    "if age >= 18:\n",
    "    print(\"You are an adult.\")\n",
    "    if score >= 90:\n",
    "        print(\"You have an excellent score!\")\n",
    "    elif score >= 75:\n",
    "        print(\"You have a good score.\")\n",
    "    else:\n",
    "        print(\"You need to improve your score.\")\n",
    "else:\n",
    "    print(\"You are a minor.\")"
   ]
  },
  {
   "cell_type": "code",
   "execution_count": null,
   "id": "7de91495-28e2-4ed7-aa07-2cac301d3b2f",
   "metadata": {},
   "outputs": [],
   "source": []
  }
 ],
 "metadata": {
  "kernelspec": {
   "display_name": "Python 3 (ipykernel)",
   "language": "python",
   "name": "python3"
  },
  "language_info": {
   "codemirror_mode": {
    "name": "ipython",
    "version": 3
   },
   "file_extension": ".py",
   "mimetype": "text/x-python",
   "name": "python",
   "nbconvert_exporter": "python",
   "pygments_lexer": "ipython3",
   "version": "3.10.8"
  }
 },
 "nbformat": 4,
 "nbformat_minor": 5
}
