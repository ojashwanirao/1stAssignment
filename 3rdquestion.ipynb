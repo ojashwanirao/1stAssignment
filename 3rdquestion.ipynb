{
 "cells": [
  {
   "cell_type": "code",
   "execution_count": 1,
   "id": "940174bd-7a10-4bc7-a145-9878612fdf77",
   "metadata": {},
   "outputs": [
    {
     "name": "stdout",
     "output_type": "stream",
     "text": [
      "True\n",
      "True\n",
      "a is less than b and b is greater than c\n",
      "a is not greater than b\n"
     ]
    }
   ],
   "source": [
    "# Example: Logical and Comparison Keywords\n",
    "\n",
    "a = 10\n",
    "b = 20\n",
    "c = 10\n",
    "\n",
    "# Comparison operations\n",
    "print(a == c)  \n",
    "print(a is not b)  \n",
    "\n",
    "# Logical operations\n",
    "if a < b and b > c:\n",
    "    print(\"a is less than b and b is greater than c\")\n",
    "\n",
    "if not (a > b):\n",
    "    print(\"a is not greater than b\")"
   ]
  },
  {
   "cell_type": "code",
   "execution_count": null,
   "id": "408dbdf6-6bc4-4469-ac6c-7d1a57c71848",
   "metadata": {},
   "outputs": [],
   "source": []
  }
 ],
 "metadata": {
  "kernelspec": {
   "display_name": "Python 3 (ipykernel)",
   "language": "python",
   "name": "python3"
  },
  "language_info": {
   "codemirror_mode": {
    "name": "ipython",
    "version": 3
   },
   "file_extension": ".py",
   "mimetype": "text/x-python",
   "name": "python",
   "nbconvert_exporter": "python",
   "pygments_lexer": "ipython3",
   "version": "3.10.8"
  }
 },
 "nbformat": 4,
 "nbformat_minor": 5
}
