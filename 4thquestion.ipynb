{
 "cells": [
  {
   "cell_type": "code",
   "execution_count": 1,
   "id": "9456d1f4-d3a4-4506-aa3a-2e7b7c86c7b8",
   "metadata": {},
   "outputs": [
    {
     "name": "stdout",
     "output_type": "stream",
     "text": [
      "13\n",
      "7\n",
      "30\n",
      "3.3333333333333335\n",
      "1\n",
      "1000\n",
      "3\n",
      "False\n",
      "True\n",
      "True\n",
      "False\n",
      "True\n",
      "False\n",
      "True\n",
      "True\n",
      "False\n",
      "8\n",
      "2\n",
      "11\n"
     ]
    }
   ],
   "source": [
    "#4. Discuss the different types of operators in Python and provide examples of how they are used\n",
    "# Arithmetic Operators\n",
    "a = 10\n",
    "b = 3\n",
    "\n",
    "print(a + b)      \n",
    "print(a - b)      \n",
    "print(a * b)     \n",
    "print(a / b)      \n",
    "print(a % b)     \n",
    "print(a ** b)     \n",
    "print(a // b)    \n",
    "\n",
    "# Comparison Operators\n",
    "print(a == b)    \n",
    "print(a != b)    \n",
    "print(a > b)     \n",
    "print(a < b)      \n",
    "print(a >= b)     \n",
    "print(a <= b)    \n",
    "\n",
    "# Logical Operators\n",
    "print(a > 5 and b < 5)  \n",
    "print(a > 5 or b > 5)  \n",
    "print(not(a > 5))       \n",
    "\n",
    "# Assignment Operators\n",
    "c = 5\n",
    "c += 3\n",
    "print(c)   \n",
    "\n",
    "# Bitwise Operators\n",
    "print(a & b)  \n",
    "print(a | b)  "
   ]
  },
  {
   "cell_type": "code",
   "execution_count": null,
   "id": "16836653-e829-4fee-8ec0-c32a488f6038",
   "metadata": {},
   "outputs": [],
   "source": []
  }
 ],
 "metadata": {
  "kernelspec": {
   "display_name": "Python 3 (ipykernel)",
   "language": "python",
   "name": "python3"
  },
  "language_info": {
   "codemirror_mode": {
    "name": "ipython",
    "version": 3
   },
   "file_extension": ".py",
   "mimetype": "text/x-python",
   "name": "python",
   "nbconvert_exporter": "python",
   "pygments_lexer": "ipython3",
   "version": "3.10.8"
  }
 },
 "nbformat": 4,
 "nbformat_minor": 5
}
