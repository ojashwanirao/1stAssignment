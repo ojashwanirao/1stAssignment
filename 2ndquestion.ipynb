{
 "cells": [
  {
   "cell_type": "code",
   "execution_count": 4,
   "id": "d8d62e05-28db-43fc-823c-3a2c89f0ffc2",
   "metadata": {},
   "outputs": [],
   "source": [
    "#2. Describe the role of predefined keywords in Python and provide examples of how they are used in a program\n",
    "# Example: Control Flow\n",
    "numbers = [1, 2, 3, 4, 5]\n",
    "total = 0"
   ]
  },
  {
   "cell_type": "code",
   "execution_count": 5,
   "id": "196c418e-d255-4b9e-90c9-5d725b4c1842",
   "metadata": {},
   "outputs": [
    {
     "name": "stdout",
     "output_type": "stream",
     "text": [
      "Sum of odd numbers: 9\n"
     ]
    }
   ],
   "source": [
    "# Using for loop\n",
    "for number in numbers:\n",
    "    if number % 2 == 0:\n",
    "        continue \n",
    "    total += number\n",
    "\n",
    "print(\"Sum of odd numbers:\", total)"
   ]
  },
  {
   "cell_type": "code",
   "execution_count": 6,
   "id": "09866e9b-a8ed-4cbf-8f40-fa6f64ca6a3d",
   "metadata": {},
   "outputs": [
    {
     "name": "stdout",
     "output_type": "stream",
     "text": [
      "Factorial of 5: 120\n"
     ]
    }
   ],
   "source": [
    "# Example: Function Definition and Invocation\n",
    "def factorial(n):\n",
    "    if n == 0:\n",
    "        return 1\n",
    "    else:\n",
    "        return n * factorial(n - 1)\n",
    "\n",
    "print(\"Factorial of 5:\", factorial(5))"
   ]
  },
  {
   "cell_type": "code",
   "execution_count": 9,
   "id": "8ff184c6-3b64-48b7-8998-4e13c4ed1284",
   "metadata": {},
   "outputs": [
    {
     "name": "stdout",
     "output_type": "stream",
     "text": [
      "Area of rectangle: 20\n"
     ]
    }
   ],
   "source": [
    "#Example: Class Definition and Object Management\n",
    "class Rectangle:\n",
    "    def __init__(self, width, height):\n",
    "        self.width = width\n",
    "        self.height = height\n",
    "\n",
    "    def area(self):\n",
    "        return self.width * self.height\n",
    "\n",
    "# Creating an object of Rectangle\n",
    "rect = Rectangle(4, 5)\n",
    "print(\"Area of rectangle:\", rect.area())"
   ]
  },
  {
   "cell_type": "code",
   "execution_count": 10,
   "id": "e4b4fada-1876-4c88-a711-5c42d483ac14",
   "metadata": {},
   "outputs": [
    {
     "name": "stdout",
     "output_type": "stream",
     "text": [
      "Execution complete.\n",
      "Result of division: 5.0\n",
      "Error: Division by zero.\n",
      "Execution complete.\n",
      "Result of division: None\n"
     ]
    }
   ],
   "source": [
    "# Example: Exception Handling\n",
    "def divide(x, y):\n",
    "    try:\n",
    "        result = x / y\n",
    "    except ZeroDivisionError:\n",
    "        print(\"Error: Division by zero.\")\n",
    "    else:\n",
    "        return result\n",
    "    finally:\n",
    "        print(\"Execution complete.\")\n",
    "\n",
    "print(\"Result of division:\", divide(10, 2))\n",
    "print(\"Result of division:\", divide(10, 0))\n"
   ]
  },
  {
   "cell_type": "code",
   "execution_count": 11,
   "id": "b02dda58-70ee-4866-bbdb-3ac32faa535d",
   "metadata": {},
   "outputs": [
    {
     "name": "stdout",
     "output_type": "stream",
     "text": [
      "True\n",
      "True\n",
      "a is less than b and b is greater than c\n",
      "a is not greater than b\n"
     ]
    }
   ],
   "source": [
    "# Example: Logical and Comparison Keywords\n",
    "\n",
    "a = 10\n",
    "b = 20\n",
    "c = 10\n",
    "\n",
    "# Comparison operations\n",
    "print(a == c)  \n",
    "print(a is not b)  \n",
    "\n",
    "# Logical operations\n",
    "if a < b and b > c:\n",
    "    print(\"a is less than b and b is greater than c\")\n",
    "\n",
    "if not (a > b):\n",
    "    print(\"a is not greater than b\")"
   ]
  },
  {
   "cell_type": "code",
   "execution_count": null,
   "id": "479628e7-d235-49d2-98b9-4e219efa8bd9",
   "metadata": {},
   "outputs": [],
   "source": []
  }
 ],
 "metadata": {
  "kernelspec": {
   "display_name": "Python 3 (ipykernel)",
   "language": "python",
   "name": "python3"
  },
  "language_info": {
   "codemirror_mode": {
    "name": "ipython",
    "version": 3
   },
   "file_extension": ".py",
   "mimetype": "text/x-python",
   "name": "python",
   "nbconvert_exporter": "python",
   "pygments_lexer": "ipython3",
   "version": "3.10.8"
  }
 },
 "nbformat": 4,
 "nbformat_minor": 5
}
